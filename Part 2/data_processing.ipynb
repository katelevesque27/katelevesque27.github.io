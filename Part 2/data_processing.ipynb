{
 "cells": [
  {
   "cell_type": "code",
   "execution_count": 2,
   "id": "05e16ff0-645d-409a-a55b-6e5cdd3f1671",
   "metadata": {},
   "outputs": [
    {
     "name": "stdout",
     "output_type": "stream",
     "text": [
      "Data saved to /Users/katelevesque/Desktop/DS4200/HW3_Github_Page/katelevesque27.github.io/Part 2/socialMediaAvg.csv\n"
     ]
    }
   ],
   "source": [
    "import pandas as pd\n",
    "\n",
    "def process_and_save_data(input_file_path, output_file_path):\n",
    "    data = pd.read_csv(input_file_path)\n",
    "\n",
    "    data = data[pd.to_numeric(data['Likes'], errors='coerce').notna()]\n",
    "    data = data[data['Likes'] >= 0]\n",
    "\n",
    "    average_likes = data.groupby(['Platform', 'PostType'])['Likes'].mean().reset_index()\n",
    "    average_likes.columns = ['Platform', 'PostType', 'AverageLikes']\n",
    "\n",
    "    average_likes['AverageLikes'] = average_likes['AverageLikes'].round(2)\n",
    "\n",
    "    final_data = average_likes[['Platform', 'PostType', 'AverageLikes']]\n",
    "\n",
    "    final_data.to_csv(output_file_path, index=False)\n",
    "    print(f\"Data saved to {output_file_path}\")\n",
    "\n",
    "input_file_path = '/Users/katelevesque/Desktop/DS4200/HW3_Github_Page/katelevesque27.github.io/Part 2/socialMedia.csv'\n",
    "output_file_path = '/Users/katelevesque/Desktop/DS4200/HW3_Github_Page/katelevesque27.github.io/Part 2/socialMediaAvg.csv'\n",
    "\n",
    "process_and_save_data(input_file_path, output_file_path)"
   ]
  },
  {
   "cell_type": "code",
   "execution_count": 3,
   "id": "397cac7e-5a03-4828-87bf-9d2339d31909",
   "metadata": {},
   "outputs": [
    {
     "name": "stdout",
     "output_type": "stream",
     "text": [
      "Data saved to /Users/katelevesque/Desktop/DS4200/HW3_Github_Page/katelevesque27.github.io/Part 2/socialMediaTime.csv\n"
     ]
    }
   ],
   "source": [
    "import pandas as pd\n",
    "\n",
    "def summarize_likes_by_date(input_file_path, output_file_path):\n",
    "    data = pd.read_csv(input_file_path)\n",
    "\n",
    "    data = data[pd.to_numeric(data['Likes'], errors='coerce').notna()]\n",
    "    data = data[data['Likes'] >= 0]\n",
    "\n",
    "    data['Post Timestamp'] = pd.to_datetime(data['Post Timestamp'])\n",
    "\n",
    "    data['Date'] = data['Post Timestamp'].dt.strftime('%m/%d/%Y (%A)')\n",
    "\n",
    "    avg_likes_by_date = data.groupby('Date')['Likes'].mean().reset_index()\n",
    "\n",
    "    avg_likes_by_date.columns = ['Date', 'AverageLikes']\n",
    "\n",
    "    avg_likes_by_date['AverageLikes'] = avg_likes_by_date['AverageLikes'].round(2)\n",
    "\n",
    "    avg_likes_by_date.to_csv(output_file_path, index=False)\n",
    "    \n",
    "    print(f\"Data saved to {output_file_path}\")\n",
    "\n",
    "input_file_path = '/Users/katelevesque/Desktop/DS4200/HW3_Github_Page/katelevesque27.github.io/Part 2/socialMedia.csv'\n",
    "output_file_path = '/Users/katelevesque/Desktop/DS4200/HW3_Github_Page/katelevesque27.github.io/Part 2/socialMediaTime.csv'\n",
    "\n",
    "summarize_likes_by_date(input_file_path, output_file_path)\n"
   ]
  },
  {
   "cell_type": "code",
   "execution_count": null,
   "id": "a2676468-b28b-4282-9436-e0cd47a3c161",
   "metadata": {},
   "outputs": [],
   "source": []
  }
 ],
 "metadata": {
  "kernelspec": {
   "display_name": "Python 3",
   "language": "python",
   "name": "python3"
  },
  "language_info": {
   "codemirror_mode": {
    "name": "ipython",
    "version": 3
   },
   "file_extension": ".py",
   "mimetype": "text/x-python",
   "name": "python",
   "nbconvert_exporter": "python",
   "pygments_lexer": "ipython3",
   "version": "3.9.6"
  }
 },
 "nbformat": 4,
 "nbformat_minor": 5
}
